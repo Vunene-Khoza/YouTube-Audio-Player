{
 "cells": [
  {
   "cell_type": "code",
   "execution_count": 1,
   "id": "fb5c2a04-8310-4b9f-b79d-db7527279d83",
   "metadata": {},
   "outputs": [
    {
     "name": "stdout",
     "output_type": "stream",
     "text": [
      "Requirement already satisfied: pygame in c:\\users\\vunen\\anaconda3\\lib\\site-packages (2.6.1)\n",
      "Note: you may need to restart the kernel to use updated packages.\n"
     ]
    }
   ],
   "source": [
    "pip install pygame"
   ]
  },
  {
   "cell_type": "code",
   "execution_count": 2,
   "id": "88c15b48-c08d-4c28-8122-4a217c8f6edc",
   "metadata": {},
   "outputs": [
    {
     "name": "stdout",
     "output_type": "stream",
     "text": [
      "Requirement already satisfied: yt-dlp in c:\\users\\vunen\\anaconda3\\lib\\site-packages (2025.6.9)\n",
      "Note: you may need to restart the kernel to use updated packages.\n"
     ]
    }
   ],
   "source": [
    "pip install yt-dlp"
   ]
  },
  {
   "cell_type": "code",
   "execution_count": 8,
   "id": "5766cacc-91e2-44ad-8cc8-6b0aca996408",
   "metadata": {},
   "outputs": [
    {
     "name": "stdout",
     "output_type": "stream",
     "text": [
      "pygame 2.6.1 (SDL 2.28.4, Python 3.12.7)\n",
      "Hello from the pygame community. https://www.pygame.org/contribute.html\n"
     ]
    }
   ],
   "source": [
    "from pygame import *\n",
    "from tkinter import *\n",
    "from tkinter import filedialog\n",
    "from tkinter import messagebox\n",
    "import time\n",
    "from threading import *\n",
    "from yt_dlp import YoutubeDL\n",
    "import os\n",
    "import subprocess"
   ]
  },
  {
   "cell_type": "code",
   "execution_count": 9,
   "id": "e334ef51-a9b4-4792-a4cb-c47a7a7e87ce",
   "metadata": {},
   "outputs": [],
   "source": [
    "if not os.path.exists(\"downloads\"):\n",
    "    os.makedirs(\"downloads\")\n",
    "\n",
    "playlist = []\n",
    "wasstarted = False\n",
    "volume = 0.3\n",
    "totallength = 0\n",
    "quitthreading = False\n",
    "slider_moved = False\n",
    "playing = False\n",
    "\n",
    "mixer.init()\n",
    "player = mixer.music"
   ]
  },
  {
   "cell_type": "code",
   "execution_count": 10,
   "id": "d4ce9b88-d270-482d-88f6-a705d8b35b62",
   "metadata": {},
   "outputs": [],
   "source": [
    "class Music:\n",
    "    def __init__(self, file):\n",
    "        self.file = file\n",
    "        name = file.split(\"/\")\n",
    "        self.name = name[-1]"
   ]
  },
  {
   "cell_type": "code",
   "execution_count": 11,
   "id": "d81500aa-814c-4ec8-9a8a-09cdf7cccd68",
   "metadata": {},
   "outputs": [],
   "source": [
    "def AddToList(musicobj):\n",
    "    listsize = music_list.size() + 1\n",
    "    music_list.insert(listsize, musicobj.name)\n",
    "    playlist.append(musicobj)"
   ]
  },
  {
   "cell_type": "code",
   "execution_count": 12,
   "id": "886d3074-38d3-4069-bd7c-72eb496c56f8",
   "metadata": {},
   "outputs": [],
   "source": [
    "def OpenFile():\n",
    "    try:\n",
    "        filename = filedialog.askopenfilenames(\n",
    "            initialdir=\"/\",\n",
    "            title=\"Select a File\",\n",
    "            filetypes=(('Audio/Video Files', '*.mp3 *.mp4 *.m4a *.webm'), ('All Files', '*.*'))\n",
    "        )\n",
    "        if not filename:\n",
    "            return\n",
    "\n",
    "        for files in filename:\n",
    "            if files.endswith((\".mp4\", \".m4a\", \".webm\")):\n",
    "                audio_file = convert_to_mp3(files)\n",
    "                music = Music(audio_file)\n",
    "            else:\n",
    "                music = Music(files)\n",
    "            AddToList(music)\n",
    "\n",
    "    except Exception as e:\n",
    "        print(f\"OpenFile error: {e}\")"
   ]
  },
  {
   "cell_type": "code",
   "execution_count": 13,
   "id": "93e6f100-5ffb-44a7-94c1-3082672c1219",
   "metadata": {},
   "outputs": [],
   "source": [
    "def download_audio_from_youtube(url):\n",
    "    if not os.path.exists(\"downloads\"):\n",
    "        os.makedirs(\"downloads\")\n",
    "\n",
    "    ydl_opts = {\n",
    "        'format': 'bestaudio/best',\n",
    "        'outtmpl': 'downloads/%(title)s.%(ext)s',\n",
    "        'postprocessors': [{\n",
    "            'key': 'FFmpegExtractAudio',\n",
    "            'preferredcodec': 'mp3',\n",
    "            'preferredquality': '192',\n",
    "        }],\n",
    "        'quiet': True\n",
    "    }\n",
    "\n",
    "    with YoutubeDL(ydl_opts) as ydl:\n",
    "        info = ydl.extract_info(url, download=True)\n",
    "        return f\"downloads/{info['title']}.mp3\""
   ]
  },
  {
   "cell_type": "code",
   "execution_count": 14,
   "id": "52c4c7b5-18fa-4413-90fc-bd3976ee4e67",
   "metadata": {},
   "outputs": [],
   "source": [
    "def convert_to_mp3(file_path):\n",
    "    mp3_path = file_path.rsplit('.', 1)[0] + \".mp3\"\n",
    "    if not os.path.exists(mp3_path):\n",
    "        try:\n",
    "            subprocess.run([\n",
    "                \"ffmpeg\", \"-y\", \"-i\", file_path, mp3_path\n",
    "            ], stdout=subprocess.DEVNULL, stderr=subprocess.DEVNULL)\n",
    "        except Exception as e:\n",
    "            print(f\"FFmpeg conversion error: {e}\")\n",
    "    return mp3_path"
   ]
  },
  {
   "cell_type": "code",
   "execution_count": 15,
   "id": "177953a1-d279-4fd6-bde5-3c9f98e008f6",
   "metadata": {},
   "outputs": [],
   "source": [
    "def DownloadFromYouTube():\n",
    "    url = youtube_entry.get()\n",
    "    if url.strip() == \"\":\n",
    "        messagebox.showerror(\"Error\", \"Please enter a YouTube URL.\")\n",
    "        return\n",
    "    try:\n",
    "        mp3_file_path = download_audio_from_youtube(url)\n",
    "        music = Music(mp3_file_path)\n",
    "        AddToList(music)\n",
    "        messagebox.showinfo(\"Success\", \"Downloaded and added to playlist!\")\n",
    "    except Exception as e:\n",
    "        messagebox.showerror(\"Error\", str(e))"
   ]
  },
  {
   "cell_type": "code",
   "execution_count": 16,
   "id": "65e87521-8188-4067-ad0a-26fd2e088482",
   "metadata": {},
   "outputs": [],
   "source": [
    "def Play():\n",
    "    global wasstarted, player, playing\n",
    "    if not wasstarted:\n",
    "        selected_music = music_list.curselection()\n",
    "        if not selected_music:\n",
    "            messagebox.showwarning(\"Music\", \"Choose a song from the list!\")\n",
    "            return\n",
    "\n",
    "        index = selected_music[0]\n",
    "        file_path = playlist[index].file\n",
    "\n",
    "        if not os.path.exists(file_path):\n",
    "            messagebox.showerror(\"File Not Found\", f\"Could not find the file:\\n{file_path}\")\n",
    "            return\n",
    "\n",
    "        try:\n",
    "            player.load(file_path)\n",
    "            player.play()\n",
    "            player.set_volume(volume)\n",
    "            UpdateTime()\n",
    "            pause_button.place(x=200, y=500)\n",
    "            wasstarted = True\n",
    "        except Exception as e:\n",
    "            messagebox.showerror(\"Playback Error\", str(e))\n",
    "    else:\n",
    "        playing = True\n",
    "        player.unpause()\n",
    "        play_button.place_forget()\n",
    "        pause_button.place(x=200, y=500)\n"
   ]
  },
  {
   "cell_type": "code",
   "execution_count": 17,
   "id": "7e831723-2565-4b33-9bb0-f9db80e99ad6",
   "metadata": {},
   "outputs": [],
   "source": [
    "def Pause():\n",
    "    global playing\n",
    "    playing = False\n",
    "    player.pause()\n",
    "    pause_button.place_forget()\n",
    "    play_button.place(x=200, y=500)"
   ]
  },
  {
   "cell_type": "code",
   "execution_count": 18,
   "id": "fbb6afd7-fa48-4772-8bd7-60cc5007d18b",
   "metadata": {},
   "outputs": [],
   "source": [
    "def Stop():\n",
    "    global wasstarted, playing\n",
    "    if wasstarted:\n",
    "        pause_button.place_forget()\n",
    "        play_button.place(x=200, y=500)\n",
    "        wasstarted = False\n",
    "        player.stop()\n",
    "        playing = False"
   ]
  },
  {
   "cell_type": "code",
   "execution_count": 19,
   "id": "afba5ec2-e612-4be0-a61b-8234a7724a54",
   "metadata": {},
   "outputs": [],
   "source": [
    "def Soundd():\n",
    "    soundpanel = Toplevel()\n",
    "    soundpanel.geometry(\"200x50\")\n",
    "    soundpanel.resizable(False, False)\n",
    "    soundslider = Scale(soundpanel, from_=0, to=100, orient=HORIZONTAL, command=SoundChanger, length=200)\n",
    "    soundslider.pack()\n",
    "    soundslider.set(volume * 100)"
   ]
  },
  {
   "cell_type": "code",
   "execution_count": 20,
   "id": "04f09f95-57b0-48b8-a2c7-e6bd2cd7a580",
   "metadata": {},
   "outputs": [],
   "source": [
    "def SoundChanger(self):\n",
    "    global volume, novolume_button, lowvolume_button, highvolume_button\n",
    "    volume = int(self) / 100\n",
    "    player.set_volume(volume)\n",
    "    if int(self) == 0:\n",
    "        novolume_button.place(x=400, y=500)\n",
    "        lowvolume_button.place_forget()\n",
    "        highvolume_button.place_forget()\n",
    "    elif int(self) < 60:\n",
    "        novolume_button.place_forget()\n",
    "        highvolume_button.place_forget()\n",
    "        lowvolume_button.place(x=400, y=500)\n",
    "    else:\n",
    "        novolume_button.place_forget()\n",
    "        highvolume_button.place(x=400, y=500)\n",
    "        lowvolume_button.place_forget()"
   ]
  },
  {
   "cell_type": "code",
   "execution_count": 21,
   "id": "5b14c2bd-78e7-4a8d-85a1-88505d733f8b",
   "metadata": {},
   "outputs": [],
   "source": [
    "def Forward():\n",
    "    try:\n",
    "        for i in music_list.curselection():\n",
    "            nextmusic = i + 1\n",
    "        music_list.selection_clear(0, END)\n",
    "        music_list.activate(nextmusic)\n",
    "        music_list.selection_set(nextmusic)\n",
    "        player.load(playlist[nextmusic].file)\n",
    "        player.play()\n",
    "        UpdateTime()\n",
    "    except:\n",
    "        nextmusic = 0\n",
    "        music_list.selection_clear(0, END)\n",
    "        music_list.activate(nextmusic)\n",
    "        music_list.selection_set(nextmusic)\n",
    "        player.load(playlist[nextmusic].file)\n",
    "        player.play()\n",
    "        UpdateTime()"
   ]
  },
  {
   "cell_type": "code",
   "execution_count": 22,
   "id": "65ce914a-552c-40f9-bb2d-50fddce66207",
   "metadata": {},
   "outputs": [],
   "source": [
    "def Back():\n",
    "    try:\n",
    "        for i in music_list.curselection():\n",
    "            nextmusic = i - 1\n",
    "            if nextmusic < 0:\n",
    "                nextmusic = music_list.size() - 1\n",
    "        music_list.selection_clear(0, END)\n",
    "        music_list.activate(nextmusic)\n",
    "        music_list.selection_set(nextmusic)\n",
    "        player.load(playlist[nextmusic].file)\n",
    "        player.play()\n",
    "        UpdateTime()\n",
    "    except:\n",
    "        nextmusic = music_list.size() - 1\n",
    "        music_list.selection_clear(0, END)\n",
    "        music_list.activate(nextmusic)\n",
    "        music_list.selection_set(nextmusic)\n",
    "        player.load(playlist[nextmusic].file)\n",
    "        player.play()\n",
    "        UpdateTime()"
   ]
  },
  {
   "cell_type": "code",
   "execution_count": 23,
   "id": "9f0b2853-b173-4310-bb65-d913c3d7cc37",
   "metadata": {},
   "outputs": [],
   "source": [
    "def PlaySelected(event=None):\n",
    "    global wasstarted, player\n",
    "    selected_music = music_list.curselection()\n",
    "    if not selected_music:\n",
    "        messagebox.showwarning(\"Music\", \"Choose a song from the list!\")\n",
    "        return\n",
    "\n",
    "    index = selected_music[0]\n",
    "    file_path = playlist[index].file\n",
    "\n",
    "    if not os.path.exists(file_path):\n",
    "        messagebox.showerror(\"File Not Found\", f\"Could not find the file:\\n{file_path}\")\n",
    "        return\n",
    "\n",
    "    try:\n",
    "        player.load(file_path)\n",
    "        player.play()\n",
    "        player.set_volume(volume)\n",
    "        pause_button.place(x=200, y=500)\n",
    "        wasstarted = True\n",
    "        UpdateTime()\n",
    "    except Exception as e:\n",
    "        messagebox.showerror(\"Playback Error\", str(e))\n",
    "\n"
   ]
  },
  {
   "cell_type": "code",
   "execution_count": 24,
   "id": "39ce33cc-850b-4c26-8b4d-2c418136177a",
   "metadata": {},
   "outputs": [],
   "source": [
    "def UpdateTime():\n",
    "    global player, totallength, playing\n",
    "    selected_music = music_list.curselection()[0]\n",
    "    total_length = mixer.Sound.get_length(mixer.Sound(playlist[selected_music].file))\n",
    "    conv_total_length = time.strftime('%M:%S', time.gmtime(total_length))\n",
    "    end_song_time.config(text=conv_total_length)\n",
    "    slider.config(to=int(total_length))\n",
    "    pos.set(0)\n",
    "    playing = True\n",
    "    if not update.is_alive():\n",
    "        update.start()"
   ]
  },
  {
   "cell_type": "code",
   "execution_count": 25,
   "id": "ce990b29-39fa-41a9-9e0f-017e4108ac71",
   "metadata": {},
   "outputs": [],
   "source": [
    "def UpdateSlider():\n",
    "    global player, totallength\n",
    "    while True:\n",
    "        if playing:\n",
    "            if slider_moved:\n",
    "                pos.set(slider.get() + 1)\n",
    "                conv_total_length = time.strftime('%M:%S', time.gmtime(int(slider.get())))\n",
    "                current_song_time.config(text=conv_total_length)\n",
    "            else:\n",
    "                current_time = player.get_pos() / 1000\n",
    "                conv_total_length = time.strftime('%M:%S', time.gmtime(current_time))\n",
    "                current_song_time.config(text=conv_total_length)\n",
    "                pos.set(int(current_time))\n",
    "            slider.config(variable=pos)\n",
    "            time.sleep(1)\n",
    "            if quitthreading:\n",
    "                break"
   ]
  },
  {
   "cell_type": "code",
   "execution_count": 26,
   "id": "e7f1fdb3-8280-49a2-909d-18ee0c8e64a3",
   "metadata": {},
   "outputs": [],
   "source": [
    "def FastForward(self):\n",
    "    global slider_moved\n",
    "    pos.set(self)\n",
    "    player.play(start=int(self))\n",
    "    slider_moved = True"
   ]
  },
  {
   "cell_type": "code",
   "execution_count": null,
   "id": "87e78120-2572-4efa-abfc-85c68d26199e",
   "metadata": {},
   "outputs": [
    {
     "name": "stdout",
     "output_type": "stream",
     "text": [
      "                                                           \r"
     ]
    }
   ],
   "source": [
    "def CloseWindow():\n",
    "    global quitthreading\n",
    "    quitthreading = True\n",
    "    player.stop()\n",
    "    master.destroy()\n",
    "\n",
    "master = Tk()\n",
    "master.title(\"Mp3 Player\")\n",
    "master.protocol(\"WM_DELETE_WINDOW\", CloseWindow)\n",
    "master.geometry(\"500x600\")\n",
    "master.resizable(False, False)\n",
    "master.configure(bg=\"#121212\")  # Dark theme\n",
    "update = Thread(target=UpdateSlider)\n",
    "pos = IntVar()\n",
    "\n",
    "\n",
    "back_img = PhotoImage(file=\"backpic.PNG\")\n",
    "back_button = Button(master, image=back_img, command=Back, bg=\"#121212\", bd=0)\n",
    "play_img = PhotoImage(file=\"playpic.PNG\")\n",
    "play_button = Button(master, image=play_img, command=Play, bg=\"#121212\", bd=0)\n",
    "pause_img = PhotoImage(file=\"pausepic.PNG\")\n",
    "pause_button = Button(master, image=pause_img, command=Pause, bg=\"#121212\", bd=0)\n",
    "stop_img = PhotoImage(file=\"stoppic.PNG\")\n",
    "stop_button = Button(master, image=stop_img, command=Stop, bg=\"#121212\", bd=0)\n",
    "forward_img = PhotoImage(file=\"forwardpic.PNG\")\n",
    "forward_button = Button(master, image=forward_img, command=Forward, bg=\"#121212\", bd=0)\n",
    "add_img = PhotoImage(file=\"addmusicpic.PNG\")\n",
    "add_button = Button(master, image=add_img, command=OpenFile, bg=\"#121212\", bd=0)\n",
    "novolume_img = PhotoImage(file=\"novolumepic.PNG\")\n",
    "novolume_button = Button(master, image=novolume_img, command=Soundd, bg=\"#121212\", bd=0)\n",
    "lowvolume_img = PhotoImage(file=\"lowvolumepic.PNG\")\n",
    "lowvolume_button = Button(master, image=lowvolume_img, command=Soundd, bg=\"#121212\", bd=0)\n",
    "highvolume_img = PhotoImage(file=\"highvolumepic.PNG\")\n",
    "highvolume_button = Button(master, image=highvolume_img, command=Soundd, bg=\"#121212\", bd=0)\n",
    "\n",
    "current_song_time = Label(master, text=\"00:00\", bg=\"#121212\", fg=\"white\", font=(\"Arial\", 10))\n",
    "end_song_time = Label(master, text=\"00:00\", bg=\"#121212\", fg=\"white\", font=(\"Arial\", 10))\n",
    "slider = Scale(master, from_=0, to=100, orient=HORIZONTAL, command=FastForward, showvalue=False, length=315, variable=pos, bg=\"#282828\", fg=\"white\", troughcolor=\"#404040\", sliderrelief=FLAT)\n",
    "\n",
    "music_list = Listbox(master, font=(\"Arial\", 10), width=53, height=11, selectmode=SINGLE, bg=\"#1e1e1e\", fg=\"white\", selectbackground=\"#1DB954\", bd=0, highlightthickness=0)\n",
    "music_list.place(x=10, y=10)\n",
    "add_button.place(x=400, y=300)\n",
    "back_button.place(x=100, y=500)\n",
    "play_button.place(x=200, y=500)\n",
    "stop_button.place(x=20, y=500)\n",
    "forward_button.place(x=270, y=500)\n",
    "lowvolume_button.place(x=400, y=500)\n",
    "current_song_time.place(x=50, y=400)\n",
    "end_song_time.place(x=410, y=400)\n",
    "slider.place(x=85, y=400)\n",
    "\n",
    "Label(master, text=\"YouTube URL:\", font=(\"Arial\", 10, \"bold\"), bg=\"#121212\", fg=\"white\").place(x=10, y=280)\n",
    "youtube_entry = Entry(master, width=58, bg=\"#1e1e1e\", fg=\"white\", insertbackground=\"white\")\n",
    "youtube_entry.place(x=10, y=300)\n",
    "youtube_button = Button(master, text=\"Download from YouTube\", bg=\"#1DB954\", fg=\"white\", font=(\"Arial\", 10, \"bold\"), command=DownloadFromYouTube, relief=FLAT, activebackground=\"#1ED760\")\n",
    "youtube_button.place(x=10, y=330)\n",
    "\n",
    "music_list.bind(\"<<ListboxSelect>>\", PlaySelected)\n",
    "mainloop()"
   ]
  },
  {
   "cell_type": "code",
   "execution_count": null,
   "id": "1380f36b-ebae-461d-b550-d124fc42d63f",
   "metadata": {},
   "outputs": [],
   "source": []
  },
  {
   "cell_type": "code",
   "execution_count": null,
   "id": "3e56df25-b4d0-41cc-b5d5-4df197f17aff",
   "metadata": {},
   "outputs": [],
   "source": []
  }
 ],
 "metadata": {
  "kernelspec": {
   "display_name": "Python [conda env:base] *",
   "language": "python",
   "name": "conda-base-py"
  },
  "language_info": {
   "codemirror_mode": {
    "name": "ipython",
    "version": 3
   },
   "file_extension": ".py",
   "mimetype": "text/x-python",
   "name": "python",
   "nbconvert_exporter": "python",
   "pygments_lexer": "ipython3",
   "version": "3.12.7"
  }
 },
 "nbformat": 4,
 "nbformat_minor": 5
}
